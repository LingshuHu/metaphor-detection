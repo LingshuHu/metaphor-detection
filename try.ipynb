{
 "metadata": {
  "language_info": {
   "codemirror_mode": {
    "name": "ipython",
    "version": 3
   },
   "file_extension": ".py",
   "mimetype": "text/x-python",
   "name": "python",
   "nbconvert_exporter": "python",
   "pygments_lexer": "ipython3",
   "version": "3.7.4-final"
  },
  "orig_nbformat": 2,
  "kernelspec": {
   "name": "python3",
   "display_name": "Python 3"
  }
 },
 "nbformat": 4,
 "nbformat_minor": 2,
 "cells": [
  {
   "cell_type": "code",
   "execution_count": 1,
   "metadata": {},
   "outputs": [],
   "source": [
    "import os\n",
    "parser_output = os.popen(\"stanford-parser-full-2020-11-17\" + '/lexparser.sh \"' + \"test.txt\" + '\"').read()"
   ]
  },
  {
   "cell_type": "code",
   "execution_count": 4,
   "metadata": {},
   "outputs": [
    {
     "output_type": "execute_result",
     "data": {
      "text/plain": [
       "'(ROOT\\n  (S\\n    (NP (NN doctor))\\n    (VP (VBZ is)\\n      (NP (DT a) (NN shark)))))\\n\\nnsubj(shark-4, doctor-1)\\ncop(shark-4, is-2)\\ndet(shark-4, a-3)\\nroot(ROOT-0, shark-4)\\n\\n'"
      ]
     },
     "metadata": {},
     "execution_count": 4
    }
   ],
   "source": [
    "parser_output"
   ]
  },
  {
   "cell_type": "code",
   "execution_count": 6,
   "metadata": {},
   "outputs": [
    {
     "output_type": "execute_result",
     "data": {
      "text/plain": [
       "str"
      ]
     },
     "metadata": {},
     "execution_count": 6
    }
   ],
   "source": [
    "type(parser_output)"
   ]
  },
  {
   "cell_type": "code",
   "execution_count": 28,
   "metadata": {},
   "outputs": [
    {
     "output_type": "stream",
     "name": "stdout",
     "text": [
      "(ROOT\n  (S\n    (NP (NNS covid19))\n    (VP (VBZ is)\n      (NP (DT a) (NN disease)))))\n---\n[['nsubj', 'disease'], ['cop', 'disease', 'is'], ['det', 'disease', 'a'], ['root', 'ROOT', 'disease']]\n"
     ]
    }
   ],
   "source": [
    "from GetDependencyParse import dependency_parse\n",
    "#print(dependency_parse(\"Covid is a battle\".lower()))\n",
    "dep_parse_output, noun_list = dependency_parse(\"covid19 is a disease\".lower())\n",
    "print(dep_parse_output)"
   ]
  },
  {
   "cell_type": "code",
   "execution_count": 30,
   "metadata": {},
   "outputs": [
    {
     "output_type": "stream",
     "name": "stdout",
     "text": [
      "[]\n"
     ]
    }
   ],
   "source": [
    "dps = []\n",
    "for dp in dep_parse_output:\n",
    "    if(len(dp) >= 3):   \n",
    "        if(dp[0] == \"nsubj\" and dp[1] in noun_list and dp[2] in noun_list):\n",
    "            dps.append(dp[1:])\n",
    "print(dps)\n"
   ]
  },
  {
   "cell_type": "code",
   "execution_count": 23,
   "metadata": {},
   "outputs": [
    {
     "output_type": "execute_result",
     "data": {
      "text/plain": [
       "[['nsubj', 'doctor', 'apple']]"
      ]
     },
     "metadata": {},
     "execution_count": 23
    }
   ],
   "source": [
    "list(filter(lambda dp: dp[0] == \"nsubj\" and dp[1] in noun_list and dp[2] in noun_list, dep_parse_output))"
   ]
  },
  {
   "cell_type": "code",
   "execution_count": 27,
   "metadata": {},
   "outputs": [
    {
     "output_type": "execute_result",
     "data": {
      "text/plain": [
       "[['doctor', 'apple']]"
      ]
     },
     "metadata": {},
     "execution_count": 27
    }
   ],
   "source": [
    "[ns_parse[1:] for ns_parse in list(filter(lambda dp: dp[0] == \"nsubj\" and dp[1] in noun_list and dp[2] in noun_list, dep_parse_output))]"
   ]
  },
  {
   "cell_type": "code",
   "execution_count": null,
   "metadata": {},
   "outputs": [],
   "source": []
  },
  {
   "cell_type": "code",
   "execution_count": 7,
   "metadata": {},
   "outputs": [
    {
     "output_type": "stream",
     "name": "stdout",
     "text": [
      "('(ROOT\\n  (S\\n    (NP (NN apple))\\n    (VP (VBZ is)\\n      (NP (DT a) (NN doctor)))))', 'nsubj(doctor-4, apple-1)\\ncop(doctor-4, is-2)\\ndet(doctor-4, a-3)\\nroot(ROOT-0, doctor-4)')\n"
     ]
    }
   ],
   "source": [
    "from parse import parse\n",
    "parse_output = parse(\"apple is a doctor\", \"stanford-parser-full-2020-11-17\")\n",
    "print(parse_output)"
   ]
  },
  {
   "cell_type": "code",
   "execution_count": 8,
   "metadata": {},
   "outputs": [
    {
     "output_type": "stream",
     "name": "stdout",
     "text": [
      "['nsubj(doctor-4, apple-1)', 'cop(doctor-4, is-2)', 'det(doctor-4, a-3)', 'root(ROOT-0, doctor-4)']\n"
     ]
    }
   ],
   "source": [
    "dep_parse = parse_output[1].split(\"\\n\")\n",
    "print(dep_parse)"
   ]
  },
  {
   "cell_type": "code",
   "execution_count": 9,
   "metadata": {},
   "outputs": [
    {
     "output_type": "stream",
     "name": "stdout",
     "text": [
      "[['nsubj', 'doctor', 'apple'], ['cop', 'doctor', 'is'], ['det', 'doctor', 'a'], ['root', 'ROOT', 'doctor']]\n"
     ]
    }
   ],
   "source": [
    "import re\n",
    "dependency_parse=[]\n",
    "for i in dep_parse:\n",
    "    if len(i.strip()) > 0 and i.strip()[0] != \"(\":\n",
    "        line=i.strip()\n",
    "        dependency_parse.append(list(filter(lambda x:x.isalpha(),re.findall(r\"[\\w']+\", line))))\n",
    "print(dependency_parse)"
   ]
  },
  {
   "cell_type": "code",
   "execution_count": 16,
   "metadata": {},
   "outputs": [
    {
     "output_type": "stream",
     "name": "stdout",
     "text": [
      "[['nsubj', 'doctor', 'apple'], ['cop', 'doctor', 'is'], ['det', 'doctor', 'a'], ['root', 'ROOT', 'doctor']]\n"
     ]
    }
   ],
   "source": [
    "import re\n",
    "dependency_parse=[]\n",
    "for i in dep_parse:\n",
    "    if len(i.strip()) > 0 and i.strip()[0] != \"(\":\n",
    "        line=i.strip()\n",
    "        \n",
    "        line = re.findall(r\"[\\w']+\", line)\n",
    "        filters = []\n",
    "        for j in line:\n",
    "            if(j.isalpha()):\n",
    "                filters.append(j)\n",
    "        dependency_parse.append(filters)\n",
    "print(dependency_parse)"
   ]
  },
  {
   "cell_type": "code",
   "execution_count": 14,
   "metadata": {},
   "outputs": [
    {
     "output_type": "stream",
     "name": "stdout",
     "text": [
      "nsubj(doctor-4, apple-1)\n============\n['nsubj', 'doctor', '4', 'apple', '1']\ncop(doctor-4, is-2)\n============\n['cop', 'doctor', '4', 'is', '2']\ndet(doctor-4, a-3)\n============\n['det', 'doctor', '4', 'a', '3']\nroot(ROOT-0, doctor-4)\n============\n['root', 'ROOT', '0', 'doctor', '4']\n"
     ]
    }
   ],
   "source": [
    "for i in dep_parse:\n",
    "    if len(i.strip()) > 0 and i.strip()[0] != \"(\":\n",
    "        line=i.strip()\n",
    "        print(line)\n",
    "        print(\"============\")\n",
    "        line = re.findall(r\"[\\w']+\", line)\n",
    "        print(line)"
   ]
  },
  {
   "cell_type": "code",
   "execution_count": 18,
   "metadata": {},
   "outputs": [
    {
     "output_type": "execute_result",
     "data": {
      "text/plain": [
       "[]"
      ]
     },
     "metadata": {},
     "execution_count": 18
    }
   ],
   "source": [
    "list(filter(lambda dp: dp[0] == \"nsubj\" and dp[1] in noun_list and dp[2] in noun_list, dependency_parse))"
   ]
  },
  {
   "cell_type": "code",
   "execution_count": null,
   "metadata": {},
   "outputs": [],
   "source": []
  }
 ]
}